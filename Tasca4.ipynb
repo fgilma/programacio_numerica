{
 "cells": [
  {
   "cell_type": "markdown",
   "metadata": {},
   "source": [
    "# Nivell 1\n",
    "#### Exercici 1\n",
    "Crea una funció que donat un Array d’una dimensió, et faci un resum estadístic bàsic de les dades. Si detecta que l’array té més d’una dimensió, ha de mostrar un missatge d’error."
   ]
  },
  {
   "cell_type": "code",
   "execution_count": 1,
   "metadata": {},
   "outputs": [],
   "source": [
    "import numpy as np\n",
    "import matplotlib.pyplot as plt\n",
    "import seaborn as sns\n",
    "%matplotlib inline"
   ]
  },
  {
   "cell_type": "code",
   "execution_count": 2,
   "metadata": {},
   "outputs": [],
   "source": [
    "\n",
    "from scipy import stats as st\n",
    "def arrayDim(a):\n",
    "    print('L\\'array és:\\n',a)\n",
    "    print('\\nDimensió de l\\'array és',np.ndim(a))\n",
    "    if a.ndim>1:        \n",
    "        print('Error!! L\\'array ha de tenir dimensió 1')\n",
    "    else:       \n",
    "        print('Resum estadístic')\n",
    "        print('=================')\n",
    "        print('La mitja és %2.2f' %np.mean(a))\n",
    "        print('La mitjana és %2.2f' %np.median(a))\n",
    "        print('La desviació estándard és %2.2f' %np.std(a))\n",
    "        print('La moda és %s i és repeteix %s vegades' %(st.mode(a)[0][0],st.mode(a)[1][0]))\n",
    "        print('El màxim és',np.max(a))\n",
    "        print('El mínim és',np.min(a))\n",
    "        q=[25,50,75]\n",
    "        print('Quartils:',np.percentile(a,q))\n",
    "        print('IQR:',st.iqr(a))"
   ]
  },
  {
   "cell_type": "code",
   "execution_count": 3,
   "metadata": {},
   "outputs": [
    {
     "name": "stdout",
     "output_type": "stream",
     "text": [
      "Primer intent:\n",
      "L'array és:\n",
      " [[1 2 3]\n",
      " [3 5 6]]\n",
      "\n",
      "Dimensió de l'array és 2\n",
      "Error!! L'array ha de tenir dimensió 1\n",
      "\n",
      "\n",
      "Segon intent:\n",
      "L'array és:\n",
      " [1 2 3 3 5 6]\n",
      "\n",
      "Dimensió de l'array és 1\n",
      "Resum estadístic\n",
      "=================\n",
      "La mitja és 3.33\n",
      "La mitjana és 3.00\n",
      "La desviació estándard és 1.70\n",
      "La moda és 3 i és repeteix 2 vegades\n",
      "El màxim és 6\n",
      "El mínim és 1\n",
      "Quartils: [2.25 3.   4.5 ]\n",
      "IQR: 2.25\n"
     ]
    }
   ],
   "source": [
    "# array dimensió 2\n",
    "print('Primer intent:')\n",
    "a=np.array([[1,2,3],[3,5,6]]) \n",
    "arrayDim(a)\n",
    "\n",
    "print('\\n')\n",
    "print('Segon intent:')\n",
    "# array dimensió 1\n",
    "a=np.array([1,2,3,3,5,6])\n",
    "arrayDim(a)"
   ]
  },
  {
   "cell_type": "markdown",
   "metadata": {},
   "source": [
    "#### Exercici 2\n",
    "Crea una funció que et generi un quadrat NxN de nombres aleatoris entre el 0 i el 100."
   ]
  },
  {
   "cell_type": "code",
   "execution_count": 4,
   "metadata": {},
   "outputs": [],
   "source": [
    "def arrayQuadrat(n):\n",
    "    return np.random.randint(0,100,(n,n))"
   ]
  },
  {
   "cell_type": "code",
   "execution_count": 5,
   "metadata": {},
   "outputs": [
    {
     "data": {
      "text/plain": [
       "array([[17, 55, 35, 82, 65, 59, 99, 35],\n",
       "       [64, 55,  5, 83, 96, 50, 28, 62],\n",
       "       [19, 44, 67, 12, 99, 75, 58, 73],\n",
       "       [54, 66, 29, 93,  6, 28,  1,  5],\n",
       "       [11, 31, 84, 22, 30, 91, 17, 33],\n",
       "       [ 7,  4, 57, 95, 51,  9, 87, 26],\n",
       "       [16, 92, 62, 15, 64, 75, 35, 93],\n",
       "       [89,  3, 21, 46, 27, 12, 97, 14]])"
      ]
     },
     "execution_count": 5,
     "metadata": {},
     "output_type": "execute_result"
    }
   ],
   "source": [
    "arrayQuadrat(8)"
   ]
  },
  {
   "cell_type": "markdown",
   "metadata": {},
   "source": [
    "#### Exercici 3\n",
    "Crea una funció que donada una taula de dues dimensions, et calculi els totals per fila i els totals per columna."
   ]
  },
  {
   "cell_type": "code",
   "execution_count": 6,
   "metadata": {},
   "outputs": [],
   "source": [
    "def totals(a):\n",
    "    print(a)\n",
    "    print('Totals per columna',np.sum(a, axis=0))\n",
    "    print('Totals per fila',np.sum(a, axis=1))  "
   ]
  },
  {
   "cell_type": "code",
   "execution_count": 7,
   "metadata": {},
   "outputs": [
    {
     "name": "stdout",
     "output_type": "stream",
     "text": [
      "[[1 2 5]\n",
      " [3 4 6]\n",
      " [0 2 3]]\n",
      "Totals per columna [ 4  8 14]\n",
      "Totals per fila [ 8 13  5]\n"
     ]
    }
   ],
   "source": [
    "a=np.array([[1,2,5],[3,4,6],[0,2,3]])\n",
    "totals(a)"
   ]
  },
  {
   "cell_type": "markdown",
   "metadata": {},
   "source": [
    "#### Exercici 4\n",
    "Implementa manualment una funció que calculi el coeficient de correlació. Informa’t-en sobre els seus usos i interpretació."
   ]
  },
  {
   "cell_type": "code",
   "execution_count": 8,
   "metadata": {},
   "outputs": [],
   "source": [
    "def correlacio(x,y):\n",
    "    cov=np.mean(x*y)-(np.mean(x)*np.mean(y))\n",
    "    coefCorr=cov/(np.std(x)*np.std(y))\n",
    "    return coefCorr    "
   ]
  },
  {
   "cell_type": "code",
   "execution_count": 9,
   "metadata": {},
   "outputs": [
    {
     "name": "stdout",
     "output_type": "stream",
     "text": [
      "El coeficient de correlació és: 0.9355071411331453\n"
     ]
    }
   ],
   "source": [
    "x=np.array([2,3,4,4,5,6,6,7,7,8,10,10])\n",
    "y=np.array([1,3,2,4,4,4,6,4,6,7,9,10])\n",
    "print ('El coeficient de correlació és:',correlacio(x,y))"
   ]
  },
  {
   "cell_type": "markdown",
   "metadata": {},
   "source": [
    "La correlació indica la força i la direcció d'una relació lineal i la proporcionalitat entre dues variables estadísticas. En aquest cas, al ser quasi r=1 ens està dient que els dos vectors son quasi colineals o paral·lels"
   ]
  },
  {
   "cell_type": "code",
   "execution_count": 10,
   "metadata": {},
   "outputs": [
    {
     "data": {
      "text/plain": [
       "array([[1.        , 0.93550714],\n",
       "       [0.93550714, 1.        ]])"
      ]
     },
     "execution_count": 10,
     "metadata": {},
     "output_type": "execute_result"
    }
   ],
   "source": [
    "#Podem comprovar el valor obtingut usant corrcoef de numpy\n",
    "np.corrcoef(x,y)"
   ]
  },
  {
   "cell_type": "code",
   "execution_count": 11,
   "metadata": {},
   "outputs": [
    {
     "data": {
      "image/png": "[encoded data removed]",
      "text/plain": [
       "<Figure size 432x288 with 1 Axes>"
      ]
     },
     "metadata": {
      "needs_background": "light"
     },
     "output_type": "display_data"
    }
   ],
   "source": [
    "#Per últim podem veure els valors a un gràfic, si utilitzem regplot de seaborn veiem la relació lineal que hi ha i\n",
    "#fins i tot la recta de la possible regressió.\n",
    "sns.regplot(x=x,y=y)\n",
    "plt.show()"
   ]
  }
 ],
 "metadata": {
  "kernelspec": {
   "display_name": "Python 3",
   "language": "python",
   "name": "python3"
  },
  "language_info": {
   "codemirror_mode": {
    "name": "ipython",
    "version": 3
   },
   "file_extension": ".py",
   "mimetype": "text/x-python",
   "name": "python",
   "nbconvert_exporter": "python",
   "pygments_lexer": "ipython3",
   "version": "3.7.4"
  },
  "latex_envs": {
   "LaTeX_envs_menu_present": true,
   "autoclose": false,
   "autocomplete": true,
   "bibliofile": "biblio.bib",
   "cite_by": "apalike",
   "current_citInitial": 1,
   "eqLabelWithNumbers": true,
   "eqNumInitial": 1,
   "hotkeys": {
    "equation": "Ctrl-E",
    "itemize": "Ctrl-I"
   },
   "labels_anchors": false,
   "latex_user_defs": false,
   "report_style_numbering": false,
   "user_envs_cfg": false
  },
  "varInspector": {
   "cols": {
    "lenName": 16,
    "lenType": 16,
    "lenVar": 40
   },
   "kernels_config": {
    "python": {
     "delete_cmd_postfix": "",
     "delete_cmd_prefix": "del ",
     "library": "var_list.py",
     "varRefreshCmd": "print(var_dic_list())"
    },
    "r": {
     "delete_cmd_postfix": ") ",
     "delete_cmd_prefix": "rm(",
     "library": "var_list.r",
     "varRefreshCmd": "cat(var_dic_list()) "
    }
   },
   "types_to_exclude": [
    "module",
    "function",
    "builtin_function_or_method",
    "instance",
    "_Feature"
   ],
   "window_display": false
  }
 },
 "nbformat": 4,
 "nbformat_minor": 2
}
